{
  "nbformat": 4,
  "nbformat_minor": 0,
  "metadata": {
    "colab": {
      "provenance": []
    },
    "kernelspec": {
      "name": "python3",
      "display_name": "Python 3"
    },
    "language_info": {
      "name": "python"
    }
  },
  "cells": [
    {
      "cell_type": "code",
      "execution_count": null,
      "metadata": {
        "id": "hOGIsvlRY1sb"
      },
      "outputs": [],
      "source": [
        "import pandas as pd\n",
        "import matplotlib.pyplot as plt\n",
        "\n",
        "df = pd.read_csv(\"metrics.csv\")\n",
        "evals = df[df[\"role\"] == \"eval\"]\n",
        "plt.plot(evals[\"round\"], evals[\"eval_loss\"], label=\"Eval loss\")\n",
        "plt.plot(evals[\"round\"], evals[\"perplexity\"], label=\"Perplexity\")\n",
        "plt.legend()\n",
        "plt.show()\n",
        ""
      ]
    }
  ]
}