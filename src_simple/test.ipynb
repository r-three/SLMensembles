{
 "cells": [
  {
   "cell_type": "code",
   "execution_count": null,
   "id": "6b81b712",
   "metadata": {},
   "outputs": [],
   "source": [
    "import argparse\n",
    "import os\n",
    "import time\n",
    "import torch\n",
    "import torch.distributed as dist\n",
    "from datetime import datetime\n",
    "from transformers import AutoModelForCausalLM, AutoTokenizer, get_cosine_schedule_with_warmup\n",
    "from torch.distributed.fsdp import fully_shard, MixedPrecisionPolicy\n",
    "from torch.distributed.checkpoint.state_dict import get_model_state_dict, StateDictOptions\n",
    "from tqdm.auto import tqdm\n",
    "from simple_ensemble import ModelEnsemble\n",
    "import sys\n",
    "\n",
    "from simple_config import config\n",
    "from simple_trainer import Trainer\n",
    "from simple_utils import prepare_dataset, get_dataset, is_main_process, main_print, fix_seed\n",
    "from simple_checkpoint import SimpleCheckpointer"
   ]
  },
  {
   "cell_type": "code",
   "execution_count": null,
   "id": "caf7804e",
   "metadata": {},
   "outputs": [],
   "source": [
    "    \n",
    "dataset = get_dataset()\n",
    "train_dataloader, eval_dataloader = prepare_dataset(\n",
    "    dataset['train'],\n",
    "    dataset['test'],\n",
    ")"
   ]
  },
  {
   "cell_type": "code",
   "execution_count": null,
   "id": "fb1dcde4",
   "metadata": {},
   "outputs": [],
   "source": [
    "tokenizer = AutoTokenizer.from_pretrained(config.tokenizer_name)\n"
   ]
  }
 ],
 "metadata": {
  "language_info": {
   "name": "python"
  }
 },
 "nbformat": 4,
 "nbformat_minor": 5
}
