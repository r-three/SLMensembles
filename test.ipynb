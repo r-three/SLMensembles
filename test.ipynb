{
 "cells": [
  {
   "cell_type": "code",
   "execution_count": null,
   "metadata": {},
   "outputs": [],
   "source": [
    "import torch\n",
    "import datasets\n",
    "from transformers import AutoTokenizer, AutoModelForCausalLM\n",
    "from trl import DataCollatorForCompletionOnlyLM\n",
    "import config"
   ]
  },
  {
   "cell_type": "code",
   "execution_count": null,
   "metadata": {},
   "outputs": [],
   "source": [
    "tokenizer = AutoTokenizer.from_pretrained(config.student_model_name)\n",
    "response_template_ids = tokenizer(\"<|im_start|>assistant\\n\")[\"input_ids\"]\n",
    "collator = DataCollatorForCompletionOnlyLM(response_template_ids, tokenizer=tokenizer)"
   ]
  },
  {
   "cell_type": "code",
   "execution_count": null,
   "metadata": {},
   "outputs": [],
   "source": [
    "dataset = datasets.load_from_disk(\"/scratch/klambert/dataset/tulu-3-sft-mixture-pretokenized\")\n",
    "logit_dataset = datasets.load_from_disk(\"/scratch/klambert/slm_ensembles/teacher_logits/teacher_logits\")"
   ]
  },
  {
   "cell_type": "code",
   "execution_count": null,
   "metadata": {},
   "outputs": [],
   "source": [
    "print(dataset)"
   ]
  },
  {
   "cell_type": "code",
   "execution_count": null,
   "metadata": {},
   "outputs": [],
   "source": [
    "print(torch.cuda.is_available())"
   ]
  },
  {
   "cell_type": "code",
   "execution_count": null,
   "metadata": {},
   "outputs": [],
   "source": [
    "print(logit_dataset)"
   ]
  },
  {
   "cell_type": "code",
   "execution_count": null,
   "metadata": {},
   "outputs": [],
   "source": [
    "\n",
    "teacher_model = AutoModelForCausalLM.from_pretrained(\n",
    "    config.teacher_model_name,\n",
    "    torch_dtype=torch.bfloat16,\n",
    ")\n",
    "teacher_model.resize_token_embeddings(new_num_tokens=config.student_vocab_size)\n",
    "teacher_model.requires_grad_(False)\n",
    " "
   ]
  },
  {
   "cell_type": "code",
   "execution_count": null,
   "metadata": {},
   "outputs": [],
   "source": [
    "teacher_eval_results = evaluate_model(dataClass.teacher_model, dataset[\"test\"], collator)"
   ]
  },
  {
   "cell_type": "code",
   "execution_count": null,
   "metadata": {},
   "outputs": [],
   "source": [
    "print(teacher_eval_results[\"eval_loss\"])\n",
    "print(teacher_eval_results[\"perplexity\"])"
   ]
  }
 ],
 "metadata": {
  "kernelspec": {
   "display_name": ".venv",
   "language": "python",
   "name": "python3"
  },
  "language_info": {
   "codemirror_mode": {
    "name": "ipython",
    "version": 3
   },
   "file_extension": ".py",
   "mimetype": "text/x-python",
   "name": "python",
   "nbconvert_exporter": "python",
   "pygments_lexer": "ipython3",
   "version": "3.11.4"
  }
 },
 "nbformat": 4,
 "nbformat_minor": 2
}
